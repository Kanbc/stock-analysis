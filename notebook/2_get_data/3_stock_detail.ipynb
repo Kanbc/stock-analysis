{
 "cells": [
  {
   "cell_type": "code",
   "execution_count": 2,
   "metadata": {},
   "outputs": [
    {
     "data": {
      "text/html": [
       "<div>\n",
       "<style>\n",
       "    .dataframe thead tr:only-child th {\n",
       "        text-align: right;\n",
       "    }\n",
       "\n",
       "    .dataframe thead th {\n",
       "        text-align: left;\n",
       "    }\n",
       "\n",
       "    .dataframe tbody tr th {\n",
       "        vertical-align: top;\n",
       "    }\n",
       "</style>\n",
       "<table border=\"1\" class=\"dataframe\">\n",
       "  <thead>\n",
       "    <tr style=\"text-align: right;\">\n",
       "      <th></th>\n",
       "      <th>Stock</th>\n",
       "      <th>ราคาล่าสุด(Home)</th>\n",
       "      <th>Sector</th>\n",
       "      <th>กรรมการบริษัท</th>\n",
       "      <th>งบการเงิน</th>\n",
       "      <th>บริษัท/หลักทรัพย์</th>\n",
       "      <th>ผู้ถือหุ้นรายใหญ่</th>\n",
       "      <th>ราคาย้อนหลัง</th>\n",
       "    </tr>\n",
       "  </thead>\n",
       "  <tbody>\n",
       "    <tr>\n",
       "      <th>0</th>\n",
       "      <td>CHOTI</td>\n",
       "      <td>/C13_FastQuote_Main.jsp?txtSymbol=CHOTI</td>\n",
       "      <td>AGRI</td>\n",
       "      <td>/C13_FastQuote_Main.jsp?txtSymbol=CHOTI&amp;ssoPag...</td>\n",
       "      <td>/C13_FastQuote_Main.jsp?txtSymbol=CHOTI&amp;ssoPag...</td>\n",
       "      <td>/C13_FastQuote_Main.jsp?txtSymbol=CHOTI&amp;ssoPag...</td>\n",
       "      <td>/C13_FastQuote_Main.jsp?txtSymbol=CHOTI&amp;ssoPag...</td>\n",
       "      <td>/C13_FastQuote_Main.jsp?txtSymbol=CHOTI&amp;ssoPag...</td>\n",
       "    </tr>\n",
       "    <tr>\n",
       "      <th>1</th>\n",
       "      <td>EE</td>\n",
       "      <td>/C13_FastQuote_Main.jsp?txtSymbol=EE</td>\n",
       "      <td>AGRI</td>\n",
       "      <td>/C13_FastQuote_Main.jsp?txtSymbol=EE&amp;ssoPageId...</td>\n",
       "      <td>/C13_FastQuote_Main.jsp?txtSymbol=EE&amp;ssoPageId...</td>\n",
       "      <td>/C13_FastQuote_Main.jsp?txtSymbol=EE&amp;ssoPageId...</td>\n",
       "      <td>/C13_FastQuote_Main.jsp?txtSymbol=EE&amp;ssoPageId...</td>\n",
       "      <td>/C13_FastQuote_Main.jsp?txtSymbol=EE&amp;ssoPageId...</td>\n",
       "    </tr>\n",
       "    <tr>\n",
       "      <th>2</th>\n",
       "      <td>GFPT</td>\n",
       "      <td>/C13_FastQuote_Main.jsp?txtSymbol=GFPT</td>\n",
       "      <td>AGRI</td>\n",
       "      <td>/C13_FastQuote_Main.jsp?txtSymbol=GFPT&amp;ssoPage...</td>\n",
       "      <td>/C13_FastQuote_Main.jsp?txtSymbol=GFPT&amp;ssoPage...</td>\n",
       "      <td>/C13_FastQuote_Main.jsp?txtSymbol=GFPT&amp;ssoPage...</td>\n",
       "      <td>/C13_FastQuote_Main.jsp?txtSymbol=GFPT&amp;ssoPage...</td>\n",
       "      <td>/C13_FastQuote_Main.jsp?txtSymbol=GFPT&amp;ssoPage...</td>\n",
       "    </tr>\n",
       "    <tr>\n",
       "      <th>3</th>\n",
       "      <td>LEE</td>\n",
       "      <td>/C13_FastQuote_Main.jsp?txtSymbol=LEE</td>\n",
       "      <td>AGRI</td>\n",
       "      <td>/C13_FastQuote_Main.jsp?txtSymbol=LEE&amp;ssoPageI...</td>\n",
       "      <td>/C13_FastQuote_Main.jsp?txtSymbol=LEE&amp;ssoPageI...</td>\n",
       "      <td>/C13_FastQuote_Main.jsp?txtSymbol=LEE&amp;ssoPageI...</td>\n",
       "      <td>/C13_FastQuote_Main.jsp?txtSymbol=LEE&amp;ssoPageI...</td>\n",
       "      <td>/C13_FastQuote_Main.jsp?txtSymbol=LEE&amp;ssoPageI...</td>\n",
       "    </tr>\n",
       "    <tr>\n",
       "      <th>4</th>\n",
       "      <td>STA</td>\n",
       "      <td>/C13_FastQuote_Main.jsp?txtSymbol=STA</td>\n",
       "      <td>AGRI</td>\n",
       "      <td>/C13_FastQuote_Main.jsp?txtSymbol=STA&amp;ssoPageI...</td>\n",
       "      <td>/C13_FastQuote_Main.jsp?txtSymbol=STA&amp;ssoPageI...</td>\n",
       "      <td>/C13_FastQuote_Main.jsp?txtSymbol=STA&amp;ssoPageI...</td>\n",
       "      <td>/C13_FastQuote_Main.jsp?txtSymbol=STA&amp;ssoPageI...</td>\n",
       "      <td>/C13_FastQuote_Main.jsp?txtSymbol=STA&amp;ssoPageI...</td>\n",
       "    </tr>\n",
       "  </tbody>\n",
       "</table>\n",
       "</div>"
      ],
      "text/plain": [
       "   Stock                         ราคาล่าสุด(Home) Sector  \\\n",
       "0  CHOTI  /C13_FastQuote_Main.jsp?txtSymbol=CHOTI   AGRI   \n",
       "1     EE     /C13_FastQuote_Main.jsp?txtSymbol=EE   AGRI   \n",
       "2   GFPT   /C13_FastQuote_Main.jsp?txtSymbol=GFPT   AGRI   \n",
       "3    LEE    /C13_FastQuote_Main.jsp?txtSymbol=LEE   AGRI   \n",
       "4    STA    /C13_FastQuote_Main.jsp?txtSymbol=STA   AGRI   \n",
       "\n",
       "                                       กรรมการบริษัท  \\\n",
       "0  /C13_FastQuote_Main.jsp?txtSymbol=CHOTI&ssoPag...   \n",
       "1  /C13_FastQuote_Main.jsp?txtSymbol=EE&ssoPageId...   \n",
       "2  /C13_FastQuote_Main.jsp?txtSymbol=GFPT&ssoPage...   \n",
       "3  /C13_FastQuote_Main.jsp?txtSymbol=LEE&ssoPageI...   \n",
       "4  /C13_FastQuote_Main.jsp?txtSymbol=STA&ssoPageI...   \n",
       "\n",
       "                                           งบการเงิน  \\\n",
       "0  /C13_FastQuote_Main.jsp?txtSymbol=CHOTI&ssoPag...   \n",
       "1  /C13_FastQuote_Main.jsp?txtSymbol=EE&ssoPageId...   \n",
       "2  /C13_FastQuote_Main.jsp?txtSymbol=GFPT&ssoPage...   \n",
       "3  /C13_FastQuote_Main.jsp?txtSymbol=LEE&ssoPageI...   \n",
       "4  /C13_FastQuote_Main.jsp?txtSymbol=STA&ssoPageI...   \n",
       "\n",
       "                                   บริษัท/หลักทรัพย์  \\\n",
       "0  /C13_FastQuote_Main.jsp?txtSymbol=CHOTI&ssoPag...   \n",
       "1  /C13_FastQuote_Main.jsp?txtSymbol=EE&ssoPageId...   \n",
       "2  /C13_FastQuote_Main.jsp?txtSymbol=GFPT&ssoPage...   \n",
       "3  /C13_FastQuote_Main.jsp?txtSymbol=LEE&ssoPageI...   \n",
       "4  /C13_FastQuote_Main.jsp?txtSymbol=STA&ssoPageI...   \n",
       "\n",
       "                                   ผู้ถือหุ้นรายใหญ่  \\\n",
       "0  /C13_FastQuote_Main.jsp?txtSymbol=CHOTI&ssoPag...   \n",
       "1  /C13_FastQuote_Main.jsp?txtSymbol=EE&ssoPageId...   \n",
       "2  /C13_FastQuote_Main.jsp?txtSymbol=GFPT&ssoPage...   \n",
       "3  /C13_FastQuote_Main.jsp?txtSymbol=LEE&ssoPageI...   \n",
       "4  /C13_FastQuote_Main.jsp?txtSymbol=STA&ssoPageI...   \n",
       "\n",
       "                                        ราคาย้อนหลัง  \n",
       "0  /C13_FastQuote_Main.jsp?txtSymbol=CHOTI&ssoPag...  \n",
       "1  /C13_FastQuote_Main.jsp?txtSymbol=EE&ssoPageId...  \n",
       "2  /C13_FastQuote_Main.jsp?txtSymbol=GFPT&ssoPage...  \n",
       "3  /C13_FastQuote_Main.jsp?txtSymbol=LEE&ssoPageI...  \n",
       "4  /C13_FastQuote_Main.jsp?txtSymbol=STA&ssoPageI...  "
      ]
     },
     "execution_count": 2,
     "metadata": {},
     "output_type": "execute_result"
    }
   ],
   "source": [
    "import pandas as pd\n",
    "\n",
    "stock = pd.read_csv('../../data/explore/stock_url_list.csv')\n",
    "stock.head()"
   ]
  },
  {
   "cell_type": "markdown",
   "metadata": {},
   "source": [
    "# งบดุล"
   ]
  },
  {
   "cell_type": "markdown",
   "metadata": {},
   "source": [
    "$$\\text{Asset} = \\text{Equity} + \\text{Debt}$$\n"
   ]
  },
  {
   "cell_type": "markdown",
   "metadata": {},
   "source": [
    "ข้อมูลที่ต้องการได้แก่ (กรณีดึงจาก settrade.com)\n",
    "\n",
    "### งบดุล\n",
    "- หนี้สินรวม (2017,2016,...) - Home\n",
    "- เจ้าหนี้การค้าและเจ้าหนี้อื่น (2017,2016,...) - งบเต็ม\n",
    "- ส่วนของผู้ถือหุ้น (2017,2016,...) - Home\n",
    "- หนี่สินที่มีภาระดอกเบี้ย (2017,2016,...) - งบเต็ม ซึ่งประกอบไปด้วย\n",
    "    - เงินเบิกเกินบัญชีและเงินกู้ยืมระยะสั้นจากสถาบันการเงิน(งบเต็ม)\n",
    "    - ส่วนของหนี้สินระยะยาวที่ถึงกำหนดชำระภายในหนึ่งปี(งบเต็ม) : อาจจะสนแค่ เงินกู้ยืมระยะยาว-สถาบันการเงิน+ตราสารหนี้\n",
    "    - หนี้สินระยะยาว-สุทธิจากส่วนที่ถึงกำหนดชำระภายในหนึ่งปี(งบเต็ม) : อาจจะสนแค่ เงินกู้ยืมระยะยาว-สถาบันการเงิน+ตราสารหนี้\n",
    "    \n",
    "### ตรวจสอบส่วนของผู้ถือหุ้นว่ามาจากกำไรหรือระดมทุนเพิ่ม\n",
    "- มูลค่าหุ้นที่เรียกชำระแล้ว (2017,2016,2015,...) - Home"
   ]
  },
  {
   "cell_type": "markdown",
   "metadata": {},
   "source": [
    "ข้อมูลจากตาราง stock ทำให้เรารู้ url ของข้อมูลที่เราจะไปดึงมาแล้ว ดังนั้นทำฟังก์ชั่นสำหรับดึงข้อมูลงบการเงิน จะได้"
   ]
  },
  {
   "cell_type": "code",
   "execution_count": 315,
   "metadata": {},
   "outputs": [],
   "source": [
    "import requests\n",
    "import numpy as np\n",
    "import pandas as pd\n",
    "from bs4 import BeautifulSoup\n",
    "from datetime import datetime\n",
    "import re"
   ]
  },
  {
   "cell_type": "code",
   "execution_count": 316,
   "metadata": {},
   "outputs": [],
   "source": [
    "def is_float(input):\n",
    "    try:\n",
    "        num = float(input)\n",
    "    except ValueError:\n",
    "        return False\n",
    "    return True"
   ]
  },
  {
   "cell_type": "code",
   "execution_count": 317,
   "metadata": {},
   "outputs": [],
   "source": [
    "def getStockDetail(url,stock):\n",
    "    page = requests.get(url) # ดูดหน้าเว็บมา\n",
    "    \n",
    "    if page.status_code == 200 :\n",
    "        # All HTML of Page\n",
    "        soup = BeautifulSoup(page.content, \"html5lib\")\n",
    "        # ซอยข้อมูลทั้ง page เป็นทีละส่วนๆ แล้วลงลึกไปเอาข้อมูลทีละจุดๆ\n",
    "        html = list(soup.children)[1]\n",
    "        head = list(html.children)[0]\n",
    "        body = list(html.children)[2]\n",
    "        \n",
    "        # ***\n",
    "        table_info = list(body.find(class_='table-info'))\n",
    "        table_header1 = table_info[3]\n",
    "        table_body1 = table_info[5]\n",
    "        table_body_row1 = table_body1.find_all('tr')\n",
    "        table_header2 = table_info[6]\n",
    "        table_body2 = table_info[8]\n",
    "\n",
    "        # Date\n",
    "        financial_head = table_header1.find_all('strong') # งวดงบการเงิน ณ วันที่\n",
    "        financial_date_html = financial_head[1:len(financial_head)]\n",
    "        date_text = [ list(date_html.stripped_strings) for date_html in financial_date_html ]\n",
    "        dates = [ year_date[1] for year_date in date_text if len(year_date) > 0 ]\n",
    "        \n",
    "        # Asset\n",
    "        asset_row = table_body_row1[1].find_all('td') # สินทรัพย์รวม\n",
    "        asset_list = [ list(asset.stripped_strings) for asset in asset_row if len(asset) > 0 ]\n",
    "        asset_text = [ asset[0].replace(',','') for asset in asset_list if len(asset) > 0 ]\n",
    "        assets = [ float(asset) for asset in asset_text if is_float(asset) ]\n",
    "        \n",
    "#         previous_price_url = nav_menu[3].find('a').get('href')\n",
    "#         company_stock_name = nav_menu[5].find('a').text #บริษัท/หลักทรัพย์\n",
    "#         company_stock_url = nav_menu[5].find('a').get('href') \n",
    "#         board_of_director_name = nav_menu[7].find('a').text #กรรมการบริษัท\n",
    "#         board_of_director_url = nav_menu[7].find('a').get('href') \n",
    "#         major_share_holder_name = nav_menu[9].find('a').text #ผู้ถือหุ้นรายใหญ่\n",
    "#         major_share_holder_url = nav_menu[9].find('a').get('href')  \n",
    "#         financial_name = nav_menu[11].find('a').text #งบการเงิน\n",
    "#         financial_url = nav_menu[11].find('a').get('href')\n",
    "\n",
    "#         # Convert to DataFrame         \n",
    "#         stock_df = pd.DataFrame({previous_price_name: [previous_price_url], \n",
    "#                                  company_stock_name: [company_stock_url],\n",
    "#                                  board_of_director_name: [board_of_director_url],\n",
    "#                                  major_share_holder_name: [major_share_holder_url],\n",
    "#                                  financial_name: [financial_url]\n",
    "#                                 })\n",
    "#         stock_df['Stock'] = stock\n",
    "        return assets\n",
    "    else:\n",
    "        print(\"Can't get content from this URL!!!\")"
   ]
  },
  {
   "cell_type": "code",
   "execution_count": 318,
   "metadata": {},
   "outputs": [],
   "source": [
    "prefix_url = 'https://www.settrade.com'\n",
    "suffix_url = '/C13_FastQuote_Main.jsp?txtSymbol=LEE&ssoPageId=13&selectPage=6'\n",
    "settrade_url = prefix_url + suffix_url"
   ]
  },
  {
   "cell_type": "code",
   "execution_count": 319,
   "metadata": {},
   "outputs": [
    {
     "data": {
      "text/plain": [
       "[2887.18, 2827.41, 2995.53, 2989.21]"
      ]
     },
     "execution_count": 319,
     "metadata": {},
     "output_type": "execute_result"
    }
   ],
   "source": [
    "xx = getStockDetail(settrade_url,'LEE')\n",
    "xx"
   ]
  },
  {
   "cell_type": "code",
   "execution_count": 175,
   "metadata": {},
   "outputs": [
    {
     "data": {
      "text/plain": [
       "10"
      ]
     },
     "execution_count": 175,
     "metadata": {},
     "output_type": "execute_result"
    }
   ],
   "source": [
    "len(xx[0])"
   ]
  },
  {
   "cell_type": "code",
   "execution_count": null,
   "metadata": {},
   "outputs": [],
   "source": []
  }
 ],
 "metadata": {
  "kernelspec": {
   "display_name": "Python 3",
   "language": "python",
   "name": "python3"
  },
  "language_info": {
   "codemirror_mode": {
    "name": "ipython",
    "version": 3
   },
   "file_extension": ".py",
   "mimetype": "text/x-python",
   "name": "python",
   "nbconvert_exporter": "python",
   "pygments_lexer": "ipython3",
   "version": "3.6.3"
  }
 },
 "nbformat": 4,
 "nbformat_minor": 2
}
