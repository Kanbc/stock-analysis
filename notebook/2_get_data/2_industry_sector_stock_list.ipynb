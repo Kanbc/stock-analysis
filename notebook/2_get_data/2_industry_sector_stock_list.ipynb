{
 "cells": [
  {
   "cell_type": "markdown",
   "metadata": {},
   "source": [
    "## Get Industry & Sector List"
   ]
  },
  {
   "cell_type": "markdown",
   "metadata": {},
   "source": [
    "Credit : https://www.dataquest.io/blog/web-scraping-tutorial-python/"
   ]
  },
  {
   "cell_type": "code",
   "execution_count": 37,
   "metadata": {},
   "outputs": [],
   "source": [
    "import requests\n",
    "import numpy as np\n",
    "import pandas as pd\n",
    "from bs4 import BeautifulSoup\n",
    "from datetime import datetime"
   ]
  },
  {
   "cell_type": "markdown",
   "metadata": {},
   "source": [
    "ณ วันที่พัฒนานี้รองรับ URL \"https://www.settrade.com/C13_MarketSummary.jsp?detail=INDUSTRY\" ได้"
   ]
  },
  {
   "cell_type": "code",
   "execution_count": 72,
   "metadata": {},
   "outputs": [],
   "source": [
    "def getIndustryAndSector(url):\n",
    "    page = requests.get(url) # ดูดหน้าเว็บมา\n",
    "    \n",
    "    if page.status_code == 200 :\n",
    "        # All HTML of Page\n",
    "        soup = BeautifulSoup(page.content, \"html5lib\")\n",
    "        # ซอยข้อมูลทั้ง page เป็นทีละส่วนๆ แล้วลงลึกไปเอาข้อมูลทีละจุดๆ\n",
    "        html = list(soup.children)[1]\n",
    "        head = list(html.children)[0]\n",
    "        body = list(html.children)[2]\n",
    "        table_body = list(body.find(class_=\"table-hover\"))[3]\n",
    "        \n",
    "        # Industry and Sector\n",
    "        IAS_rows = table_body.find_all('tr')\n",
    "        IAS_name_list = np.array([ IAS_row.find(class_=\"link-stt\").text for IAS_row in IAS_rows ])\n",
    "        IAS_url_list = np.array([ IAS_row.find(class_=\"link-stt\").get('href') for IAS_row in IAS_rows ])\n",
    "        \n",
    "        # Only Industry\n",
    "        Ind_rows = table_body.find_all(style=\"background: #cccccc;\")\n",
    "        Ind_name_list = np.array([ Ind_row.find(class_=\"link-stt\").text for Ind_row in Ind_rows ])\n",
    "        \n",
    "        # Label Sector by Industry\n",
    "        Ind_index = -1\n",
    "        labels = np.array([])\n",
    "        for IAS_name in IAS_name_list:\n",
    "            if IAS_name in Ind_name_list:\n",
    "                Ind_index+=1\n",
    "            Ind_name = Ind_name_list[Ind_index]\n",
    "            labels = np.append(labels, Ind_name)\n",
    "\n",
    "        # Convert to DataFrame         \n",
    "        df = pd.DataFrame({'Industry': labels, 'Sector': IAS_name_list, 'URL': IAS_url_list})\n",
    "        industry = df[df['Industry'] == df['Sector']]\n",
    "        del industry['Sector']\n",
    "        sector = df[df['Industry'] != df['Sector']]\n",
    "        return [industry,sector]\n",
    "    else:\n",
    "        print(\"Can't get content from this URL!!!\")"
   ]
  },
  {
   "cell_type": "code",
   "execution_count": 73,
   "metadata": {},
   "outputs": [],
   "source": [
    "[industry_df,sector_df] = getIndustryAndSector(\"https://www.settrade.com/C13_MarketSummary.jsp?detail=INDUSTRY\")"
   ]
  },
  {
   "cell_type": "code",
   "execution_count": 40,
   "metadata": {},
   "outputs": [
    {
     "data": {
      "text/html": [
       "<div>\n",
       "<style>\n",
       "    .dataframe thead tr:only-child th {\n",
       "        text-align: right;\n",
       "    }\n",
       "\n",
       "    .dataframe thead th {\n",
       "        text-align: left;\n",
       "    }\n",
       "\n",
       "    .dataframe tbody tr th {\n",
       "        vertical-align: top;\n",
       "    }\n",
       "</style>\n",
       "<table border=\"1\" class=\"dataframe\">\n",
       "  <thead>\n",
       "    <tr style=\"text-align: right;\">\n",
       "      <th></th>\n",
       "      <th>Industry</th>\n",
       "      <th>URL</th>\n",
       "    </tr>\n",
       "  </thead>\n",
       "  <tbody>\n",
       "    <tr>\n",
       "      <th>0</th>\n",
       "      <td>AGRO</td>\n",
       "      <td>/C13_MarketSummary.jsp?detail=INDUSTRY&amp;industr...</td>\n",
       "    </tr>\n",
       "    <tr>\n",
       "      <th>3</th>\n",
       "      <td>CONSUMP</td>\n",
       "      <td>/C13_MarketSummary.jsp?detail=INDUSTRY&amp;industr...</td>\n",
       "    </tr>\n",
       "    <tr>\n",
       "      <th>7</th>\n",
       "      <td>FINCIAL</td>\n",
       "      <td>/C13_MarketSummary.jsp?detail=INDUSTRY&amp;industr...</td>\n",
       "    </tr>\n",
       "    <tr>\n",
       "      <th>11</th>\n",
       "      <td>INDUS</td>\n",
       "      <td>/C13_MarketSummary.jsp?detail=INDUSTRY&amp;industr...</td>\n",
       "    </tr>\n",
       "    <tr>\n",
       "      <th>18</th>\n",
       "      <td>PROPCON</td>\n",
       "      <td>/C13_MarketSummary.jsp?detail=INDUSTRY&amp;industr...</td>\n",
       "    </tr>\n",
       "    <tr>\n",
       "      <th>23</th>\n",
       "      <td>RESOURC</td>\n",
       "      <td>/C13_MarketSummary.jsp?detail=INDUSTRY&amp;industr...</td>\n",
       "    </tr>\n",
       "    <tr>\n",
       "      <th>26</th>\n",
       "      <td>SERVICE</td>\n",
       "      <td>/C13_MarketSummary.jsp?detail=INDUSTRY&amp;industr...</td>\n",
       "    </tr>\n",
       "    <tr>\n",
       "      <th>33</th>\n",
       "      <td>TECH</td>\n",
       "      <td>/C13_MarketSummary.jsp?detail=INDUSTRY&amp;industr...</td>\n",
       "    </tr>\n",
       "  </tbody>\n",
       "</table>\n",
       "</div>"
      ],
      "text/plain": [
       "   Industry                                                URL\n",
       "0      AGRO  /C13_MarketSummary.jsp?detail=INDUSTRY&industr...\n",
       "3   CONSUMP  /C13_MarketSummary.jsp?detail=INDUSTRY&industr...\n",
       "7   FINCIAL  /C13_MarketSummary.jsp?detail=INDUSTRY&industr...\n",
       "11    INDUS  /C13_MarketSummary.jsp?detail=INDUSTRY&industr...\n",
       "18  PROPCON  /C13_MarketSummary.jsp?detail=INDUSTRY&industr...\n",
       "23  RESOURC  /C13_MarketSummary.jsp?detail=INDUSTRY&industr...\n",
       "26  SERVICE  /C13_MarketSummary.jsp?detail=INDUSTRY&industr...\n",
       "33     TECH  /C13_MarketSummary.jsp?detail=INDUSTRY&industr..."
      ]
     },
     "execution_count": 40,
     "metadata": {},
     "output_type": "execute_result"
    }
   ],
   "source": [
    "industry_df"
   ]
  },
  {
   "cell_type": "code",
   "execution_count": 41,
   "metadata": {},
   "outputs": [
    {
     "data": {
      "text/html": [
       "<div>\n",
       "<style>\n",
       "    .dataframe thead tr:only-child th {\n",
       "        text-align: right;\n",
       "    }\n",
       "\n",
       "    .dataframe thead th {\n",
       "        text-align: left;\n",
       "    }\n",
       "\n",
       "    .dataframe tbody tr th {\n",
       "        vertical-align: top;\n",
       "    }\n",
       "</style>\n",
       "<table border=\"1\" class=\"dataframe\">\n",
       "  <thead>\n",
       "    <tr style=\"text-align: right;\">\n",
       "      <th></th>\n",
       "      <th>Industry</th>\n",
       "      <th>Sector</th>\n",
       "      <th>URL</th>\n",
       "    </tr>\n",
       "  </thead>\n",
       "  <tbody>\n",
       "    <tr>\n",
       "      <th>1</th>\n",
       "      <td>AGRO</td>\n",
       "      <td>AGRI</td>\n",
       "      <td>/C13_MarketSummary.jsp?detail=INDUSTRY§or=AGRI...</td>\n",
       "    </tr>\n",
       "    <tr>\n",
       "      <th>2</th>\n",
       "      <td>AGRO</td>\n",
       "      <td>FOOD</td>\n",
       "      <td>/C13_MarketSummary.jsp?detail=INDUSTRY§or=FOOD...</td>\n",
       "    </tr>\n",
       "    <tr>\n",
       "      <th>4</th>\n",
       "      <td>CONSUMP</td>\n",
       "      <td>FASHION</td>\n",
       "      <td>/C13_MarketSummary.jsp?detail=INDUSTRY§or=FASH...</td>\n",
       "    </tr>\n",
       "    <tr>\n",
       "      <th>5</th>\n",
       "      <td>CONSUMP</td>\n",
       "      <td>HOME</td>\n",
       "      <td>/C13_MarketSummary.jsp?detail=INDUSTRY§or=HOME...</td>\n",
       "    </tr>\n",
       "    <tr>\n",
       "      <th>6</th>\n",
       "      <td>CONSUMP</td>\n",
       "      <td>PERSON</td>\n",
       "      <td>/C13_MarketSummary.jsp?detail=INDUSTRY§or=PERS...</td>\n",
       "    </tr>\n",
       "    <tr>\n",
       "      <th>8</th>\n",
       "      <td>FINCIAL</td>\n",
       "      <td>BANK</td>\n",
       "      <td>/C13_MarketSummary.jsp?detail=INDUSTRY§or=BANK...</td>\n",
       "    </tr>\n",
       "    <tr>\n",
       "      <th>9</th>\n",
       "      <td>FINCIAL</td>\n",
       "      <td>FIN</td>\n",
       "      <td>/C13_MarketSummary.jsp?detail=INDUSTRY§or=FIN&amp;...</td>\n",
       "    </tr>\n",
       "    <tr>\n",
       "      <th>10</th>\n",
       "      <td>FINCIAL</td>\n",
       "      <td>INSUR</td>\n",
       "      <td>/C13_MarketSummary.jsp?detail=INDUSTRY§or=INSU...</td>\n",
       "    </tr>\n",
       "    <tr>\n",
       "      <th>12</th>\n",
       "      <td>INDUS</td>\n",
       "      <td>AUTO</td>\n",
       "      <td>/C13_MarketSummary.jsp?detail=INDUSTRY§or=AUTO...</td>\n",
       "    </tr>\n",
       "    <tr>\n",
       "      <th>13</th>\n",
       "      <td>INDUS</td>\n",
       "      <td>IMM</td>\n",
       "      <td>/C13_MarketSummary.jsp?detail=INDUSTRY§or=IMM&amp;...</td>\n",
       "    </tr>\n",
       "  </tbody>\n",
       "</table>\n",
       "</div>"
      ],
      "text/plain": [
       "   Industry   Sector                                                URL\n",
       "1      AGRO     AGRI  /C13_MarketSummary.jsp?detail=INDUSTRY§or=AGRI...\n",
       "2      AGRO     FOOD  /C13_MarketSummary.jsp?detail=INDUSTRY§or=FOOD...\n",
       "4   CONSUMP  FASHION  /C13_MarketSummary.jsp?detail=INDUSTRY§or=FASH...\n",
       "5   CONSUMP     HOME  /C13_MarketSummary.jsp?detail=INDUSTRY§or=HOME...\n",
       "6   CONSUMP   PERSON  /C13_MarketSummary.jsp?detail=INDUSTRY§or=PERS...\n",
       "8   FINCIAL     BANK  /C13_MarketSummary.jsp?detail=INDUSTRY§or=BANK...\n",
       "9   FINCIAL      FIN  /C13_MarketSummary.jsp?detail=INDUSTRY§or=FIN&...\n",
       "10  FINCIAL    INSUR  /C13_MarketSummary.jsp?detail=INDUSTRY§or=INSU...\n",
       "12    INDUS     AUTO  /C13_MarketSummary.jsp?detail=INDUSTRY§or=AUTO...\n",
       "13    INDUS      IMM  /C13_MarketSummary.jsp?detail=INDUSTRY§or=IMM&..."
      ]
     },
     "execution_count": 41,
     "metadata": {},
     "output_type": "execute_result"
    }
   ],
   "source": [
    "sector_df[0:10]"
   ]
  },
  {
   "cell_type": "code",
   "execution_count": 42,
   "metadata": {},
   "outputs": [],
   "source": [
    "industry_df.to_csv('../../data/explore/industry_list.csv', index=False)"
   ]
  },
  {
   "cell_type": "code",
   "execution_count": 43,
   "metadata": {},
   "outputs": [],
   "source": [
    "sector_df.to_csv('../../data/explore/sector_list.csv', index=False)"
   ]
  },
  {
   "cell_type": "code",
   "execution_count": 44,
   "metadata": {},
   "outputs": [
    {
     "data": {
      "text/plain": [
       "8"
      ]
     },
     "execution_count": 44,
     "metadata": {},
     "output_type": "execute_result"
    }
   ],
   "source": [
    "len(industry_df)"
   ]
  },
  {
   "cell_type": "code",
   "execution_count": 45,
   "metadata": {},
   "outputs": [
    {
     "data": {
      "text/plain": [
       "28"
      ]
     },
     "execution_count": 45,
     "metadata": {},
     "output_type": "execute_result"
    }
   ],
   "source": [
    "len(sector_df)"
   ]
  },
  {
   "cell_type": "code",
   "execution_count": 46,
   "metadata": {},
   "outputs": [
    {
     "data": {
      "text/plain": [
       "'2018-04-25'"
      ]
     },
     "execution_count": 46,
     "metadata": {},
     "output_type": "execute_result"
    }
   ],
   "source": [
    "str(datetime.now().strftime('%Y-%m-%d'))"
   ]
  },
  {
   "cell_type": "markdown",
   "metadata": {},
   "source": [
    "## Get Stock List"
   ]
  },
  {
   "cell_type": "code",
   "execution_count": 47,
   "metadata": {},
   "outputs": [
    {
     "data": {
      "text/html": [
       "<div>\n",
       "<style>\n",
       "    .dataframe thead tr:only-child th {\n",
       "        text-align: right;\n",
       "    }\n",
       "\n",
       "    .dataframe thead th {\n",
       "        text-align: left;\n",
       "    }\n",
       "\n",
       "    .dataframe tbody tr th {\n",
       "        vertical-align: top;\n",
       "    }\n",
       "</style>\n",
       "<table border=\"1\" class=\"dataframe\">\n",
       "  <thead>\n",
       "    <tr style=\"text-align: right;\">\n",
       "      <th></th>\n",
       "      <th>Industry</th>\n",
       "      <th>Sector</th>\n",
       "      <th>URL</th>\n",
       "    </tr>\n",
       "  </thead>\n",
       "  <tbody>\n",
       "    <tr>\n",
       "      <th>0</th>\n",
       "      <td>AGRO</td>\n",
       "      <td>AGRI</td>\n",
       "      <td>/C13_MarketSummary.jsp?detail=INDUSTRY§or=AGRI...</td>\n",
       "    </tr>\n",
       "    <tr>\n",
       "      <th>1</th>\n",
       "      <td>AGRO</td>\n",
       "      <td>FOOD</td>\n",
       "      <td>/C13_MarketSummary.jsp?detail=INDUSTRY§or=FOOD...</td>\n",
       "    </tr>\n",
       "    <tr>\n",
       "      <th>2</th>\n",
       "      <td>CONSUMP</td>\n",
       "      <td>FASHION</td>\n",
       "      <td>/C13_MarketSummary.jsp?detail=INDUSTRY§or=FASH...</td>\n",
       "    </tr>\n",
       "    <tr>\n",
       "      <th>3</th>\n",
       "      <td>CONSUMP</td>\n",
       "      <td>HOME</td>\n",
       "      <td>/C13_MarketSummary.jsp?detail=INDUSTRY§or=HOME...</td>\n",
       "    </tr>\n",
       "    <tr>\n",
       "      <th>4</th>\n",
       "      <td>CONSUMP</td>\n",
       "      <td>PERSON</td>\n",
       "      <td>/C13_MarketSummary.jsp?detail=INDUSTRY§or=PERS...</td>\n",
       "    </tr>\n",
       "  </tbody>\n",
       "</table>\n",
       "</div>"
      ],
      "text/plain": [
       "  Industry   Sector                                                URL\n",
       "0     AGRO     AGRI  /C13_MarketSummary.jsp?detail=INDUSTRY§or=AGRI...\n",
       "1     AGRO     FOOD  /C13_MarketSummary.jsp?detail=INDUSTRY§or=FOOD...\n",
       "2  CONSUMP  FASHION  /C13_MarketSummary.jsp?detail=INDUSTRY§or=FASH...\n",
       "3  CONSUMP     HOME  /C13_MarketSummary.jsp?detail=INDUSTRY§or=HOME...\n",
       "4  CONSUMP   PERSON  /C13_MarketSummary.jsp?detail=INDUSTRY§or=PERS..."
      ]
     },
     "execution_count": 47,
     "metadata": {},
     "output_type": "execute_result"
    }
   ],
   "source": [
    "sector_table = pd.read_csv('../../data/explore/sector_list.csv')\n",
    "sector_table.head()"
   ]
  },
  {
   "cell_type": "code",
   "execution_count": 36,
   "metadata": {},
   "outputs": [
    {
     "name": "stdout",
     "output_type": "stream",
     "text": [
      "AGRI /C13_MarketSummary.jsp?detail=INDUSTRY§or=AGRI&market=SET\n",
      "FOOD /C13_MarketSummary.jsp?detail=INDUSTRY§or=FOOD&market=SET\n",
      "FASHION /C13_MarketSummary.jsp?detail=INDUSTRY§or=FASHION&market=SET\n",
      "HOME /C13_MarketSummary.jsp?detail=INDUSTRY§or=HOME&market=SET\n",
      "PERSON /C13_MarketSummary.jsp?detail=INDUSTRY§or=PERSON&market=SET\n",
      "BANK /C13_MarketSummary.jsp?detail=INDUSTRY§or=BANK&market=SET\n",
      "FIN /C13_MarketSummary.jsp?detail=INDUSTRY§or=FIN&market=SET\n",
      "INSUR /C13_MarketSummary.jsp?detail=INDUSTRY§or=INSUR&market=SET\n",
      "AUTO /C13_MarketSummary.jsp?detail=INDUSTRY§or=AUTO&market=SET\n",
      "IMM /C13_MarketSummary.jsp?detail=INDUSTRY§or=IMM&market=SET\n",
      "PAPER /C13_MarketSummary.jsp?detail=INDUSTRY§or=PAPER&market=SET\n",
      "PETRO /C13_MarketSummary.jsp?detail=INDUSTRY§or=PETRO&market=SET\n",
      "PKG /C13_MarketSummary.jsp?detail=INDUSTRY§or=PKG&market=SET\n",
      "STEEL /C13_MarketSummary.jsp?detail=INDUSTRY§or=STEEL&market=SET\n",
      "CONMAT /C13_MarketSummary.jsp?detail=INDUSTRY§or=CONMAT&market=SET\n",
      "PROP /C13_MarketSummary.jsp?detail=INDUSTRY§or=PROP&market=SET\n",
      "PF&REIT; /C13_MarketSummary.jsp?detail=INDUSTRY§or=PF%26REIT&market=SET\n",
      "CONS /C13_MarketSummary.jsp?detail=INDUSTRY§or=CONS&market=SET\n",
      "ENERG /C13_MarketSummary.jsp?detail=INDUSTRY§or=ENERG&market=SET\n",
      "MINE /C13_MarketSummary.jsp?detail=INDUSTRY§or=MINE&market=SET\n",
      "COMM /C13_MarketSummary.jsp?detail=INDUSTRY§or=COMM&market=SET\n",
      "HELTH /C13_MarketSummary.jsp?detail=INDUSTRY§or=HELTH&market=SET\n",
      "MEDIA /C13_MarketSummary.jsp?detail=INDUSTRY§or=MEDIA&market=SET\n",
      "PROF /C13_MarketSummary.jsp?detail=INDUSTRY§or=PROF&market=SET\n",
      "TOURISM /C13_MarketSummary.jsp?detail=INDUSTRY§or=TOURISM&market=SET\n",
      "TRANS /C13_MarketSummary.jsp?detail=INDUSTRY§or=TRANS&market=SET\n",
      "ETRON /C13_MarketSummary.jsp?detail=INDUSTRY§or=ETRON&market=SET\n",
      "ICT /C13_MarketSummary.jsp?detail=INDUSTRY§or=ICT&market=SET\n"
     ]
    }
   ],
   "source": [
    "for index,sector in sector_table.iterrows():\n",
    "    print(sector['Sector'],sector['URL']) "
   ]
  },
  {
   "cell_type": "markdown",
   "metadata": {},
   "source": [
    "สร้าง function Get หุ้นจาก แต่ละ Sector"
   ]
  },
  {
   "cell_type": "code",
   "execution_count": null,
   "metadata": {},
   "outputs": [],
   "source": []
  }
 ],
 "metadata": {
  "kernelspec": {
   "display_name": "Python 3",
   "language": "python",
   "name": "python3"
  },
  "language_info": {
   "codemirror_mode": {
    "name": "ipython",
    "version": 3
   },
   "file_extension": ".py",
   "mimetype": "text/x-python",
   "name": "python",
   "nbconvert_exporter": "python",
   "pygments_lexer": "ipython3",
   "version": "3.6.3"
  }
 },
 "nbformat": 4,
 "nbformat_minor": 2
}
