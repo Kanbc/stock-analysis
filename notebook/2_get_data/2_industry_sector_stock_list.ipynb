{
 "cells": [
  {
   "cell_type": "markdown",
   "metadata": {},
   "source": [
    "## Get Industry & Sector List"
   ]
  },
  {
   "cell_type": "markdown",
   "metadata": {},
   "source": [
    "Credit : https://www.dataquest.io/blog/web-scraping-tutorial-python/"
   ]
  },
  {
   "cell_type": "code",
   "execution_count": 37,
   "metadata": {},
   "outputs": [],
   "source": [
    "import requests\n",
    "import numpy as np\n",
    "import pandas as pd\n",
    "from bs4 import BeautifulSoup\n",
    "from datetime import datetime"
   ]
  },
  {
   "cell_type": "markdown",
   "metadata": {},
   "source": [
    "ณ วันที่พัฒนานี้รองรับ URL \"https://www.settrade.com/C13_MarketSummary.jsp?detail=INDUSTRY\" ได้"
   ]
  },
  {
   "cell_type": "code",
   "execution_count": 72,
   "metadata": {},
   "outputs": [],
   "source": [
    "def getIndustryAndSector(url):\n",
    "    page = requests.get(url) # ดูดหน้าเว็บมา\n",
    "    \n",
    "    if page.status_code == 200 :\n",
    "        # All HTML of Page\n",
    "        soup = BeautifulSoup(page.content, \"html5lib\")\n",
    "        # ซอยข้อมูลทั้ง page เป็นทีละส่วนๆ แล้วลงลึกไปเอาข้อมูลทีละจุดๆ\n",
    "        html = list(soup.children)[1]\n",
    "        head = list(html.children)[0]\n",
    "        body = list(html.children)[2]\n",
    "        table_body = list(body.find(class_=\"table-hover\"))[3]\n",
    "        \n",
    "        # Industry and Sector\n",
    "        IAS_rows = table_body.find_all('tr')\n",
    "        IAS_name_list = np.array([ IAS_row.find(class_=\"link-stt\").text for IAS_row in IAS_rows ])\n",
    "        IAS_url_list = np.array([ IAS_row.find(class_=\"link-stt\").get('href') for IAS_row in IAS_rows ])\n",
    "        \n",
    "        # Only Industry\n",
    "        Ind_rows = table_body.find_all(style=\"background: #cccccc;\")\n",
    "        Ind_name_list = np.array([ Ind_row.find(class_=\"link-stt\").text for Ind_row in Ind_rows ])\n",
    "        \n",
    "        # Label Sector by Industry\n",
    "        Ind_index = -1\n",
    "        labels = np.array([])\n",
    "        for IAS_name in IAS_name_list:\n",
    "            if IAS_name in Ind_name_list:\n",
    "                Ind_index+=1\n",
    "            Ind_name = Ind_name_list[Ind_index]\n",
    "            labels = np.append(labels, Ind_name)\n",
    "\n",
    "        # Convert to DataFrame         \n",
    "        df = pd.DataFrame({'Industry': labels, 'Sector': IAS_name_list, 'URL': IAS_url_list})\n",
    "        industry = df[df['Industry'] == df['Sector']]\n",
    "        del industry['Sector']\n",
    "        sector = df[df['Industry'] != df['Sector']]\n",
    "        return [industry,sector]\n",
    "    else:\n",
    "        print(\"Can't get content from this URL!!!\")"
   ]
  },
  {
   "cell_type": "code",
   "execution_count": 73,
   "metadata": {},
   "outputs": [],
   "source": [
    "[industry_df,sector_df] = getIndustryAndSector(\"https://www.settrade.com/C13_MarketSummary.jsp?detail=INDUSTRY\")"
   ]
  },
  {
   "cell_type": "code",
   "execution_count": 74,
   "metadata": {},
   "outputs": [
    {
     "data": {
      "text/html": [
       "<div>\n",
       "<style>\n",
       "    .dataframe thead tr:only-child th {\n",
       "        text-align: right;\n",
       "    }\n",
       "\n",
       "    .dataframe thead th {\n",
       "        text-align: left;\n",
       "    }\n",
       "\n",
       "    .dataframe tbody tr th {\n",
       "        vertical-align: top;\n",
       "    }\n",
       "</style>\n",
       "<table border=\"1\" class=\"dataframe\">\n",
       "  <thead>\n",
       "    <tr style=\"text-align: right;\">\n",
       "      <th></th>\n",
       "      <th>Industry</th>\n",
       "      <th>URL</th>\n",
       "    </tr>\n",
       "  </thead>\n",
       "  <tbody>\n",
       "    <tr>\n",
       "      <th>0</th>\n",
       "      <td>AGRO</td>\n",
       "      <td>/C13_MarketSummary.jsp?detail=INDUSTRY&amp;industr...</td>\n",
       "    </tr>\n",
       "    <tr>\n",
       "      <th>3</th>\n",
       "      <td>CONSUMP</td>\n",
       "      <td>/C13_MarketSummary.jsp?detail=INDUSTRY&amp;industr...</td>\n",
       "    </tr>\n",
       "    <tr>\n",
       "      <th>7</th>\n",
       "      <td>FINCIAL</td>\n",
       "      <td>/C13_MarketSummary.jsp?detail=INDUSTRY&amp;industr...</td>\n",
       "    </tr>\n",
       "    <tr>\n",
       "      <th>11</th>\n",
       "      <td>INDUS</td>\n",
       "      <td>/C13_MarketSummary.jsp?detail=INDUSTRY&amp;industr...</td>\n",
       "    </tr>\n",
       "    <tr>\n",
       "      <th>18</th>\n",
       "      <td>PROPCON</td>\n",
       "      <td>/C13_MarketSummary.jsp?detail=INDUSTRY&amp;industr...</td>\n",
       "    </tr>\n",
       "    <tr>\n",
       "      <th>23</th>\n",
       "      <td>RESOURC</td>\n",
       "      <td>/C13_MarketSummary.jsp?detail=INDUSTRY&amp;industr...</td>\n",
       "    </tr>\n",
       "    <tr>\n",
       "      <th>26</th>\n",
       "      <td>SERVICE</td>\n",
       "      <td>/C13_MarketSummary.jsp?detail=INDUSTRY&amp;industr...</td>\n",
       "    </tr>\n",
       "    <tr>\n",
       "      <th>33</th>\n",
       "      <td>TECH</td>\n",
       "      <td>/C13_MarketSummary.jsp?detail=INDUSTRY&amp;industr...</td>\n",
       "    </tr>\n",
       "  </tbody>\n",
       "</table>\n",
       "</div>"
      ],
      "text/plain": [
       "   Industry                                                URL\n",
       "0      AGRO  /C13_MarketSummary.jsp?detail=INDUSTRY&industr...\n",
       "3   CONSUMP  /C13_MarketSummary.jsp?detail=INDUSTRY&industr...\n",
       "7   FINCIAL  /C13_MarketSummary.jsp?detail=INDUSTRY&industr...\n",
       "11    INDUS  /C13_MarketSummary.jsp?detail=INDUSTRY&industr...\n",
       "18  PROPCON  /C13_MarketSummary.jsp?detail=INDUSTRY&industr...\n",
       "23  RESOURC  /C13_MarketSummary.jsp?detail=INDUSTRY&industr...\n",
       "26  SERVICE  /C13_MarketSummary.jsp?detail=INDUSTRY&industr...\n",
       "33     TECH  /C13_MarketSummary.jsp?detail=INDUSTRY&industr..."
      ]
     },
     "execution_count": 74,
     "metadata": {},
     "output_type": "execute_result"
    }
   ],
   "source": [
    "industry_df"
   ]
  },
  {
   "cell_type": "code",
   "execution_count": 75,
   "metadata": {},
   "outputs": [
    {
     "data": {
      "text/html": [
       "<div>\n",
       "<style>\n",
       "    .dataframe thead tr:only-child th {\n",
       "        text-align: right;\n",
       "    }\n",
       "\n",
       "    .dataframe thead th {\n",
       "        text-align: left;\n",
       "    }\n",
       "\n",
       "    .dataframe tbody tr th {\n",
       "        vertical-align: top;\n",
       "    }\n",
       "</style>\n",
       "<table border=\"1\" class=\"dataframe\">\n",
       "  <thead>\n",
       "    <tr style=\"text-align: right;\">\n",
       "      <th></th>\n",
       "      <th>Industry</th>\n",
       "      <th>Sector</th>\n",
       "      <th>URL</th>\n",
       "    </tr>\n",
       "  </thead>\n",
       "  <tbody>\n",
       "    <tr>\n",
       "      <th>1</th>\n",
       "      <td>AGRO</td>\n",
       "      <td>AGRI</td>\n",
       "      <td>/C13_MarketSummary.jsp?detail=INDUSTRY&amp;sector=...</td>\n",
       "    </tr>\n",
       "    <tr>\n",
       "      <th>2</th>\n",
       "      <td>AGRO</td>\n",
       "      <td>FOOD</td>\n",
       "      <td>/C13_MarketSummary.jsp?detail=INDUSTRY&amp;sector=...</td>\n",
       "    </tr>\n",
       "    <tr>\n",
       "      <th>4</th>\n",
       "      <td>CONSUMP</td>\n",
       "      <td>FASHION</td>\n",
       "      <td>/C13_MarketSummary.jsp?detail=INDUSTRY&amp;sector=...</td>\n",
       "    </tr>\n",
       "    <tr>\n",
       "      <th>5</th>\n",
       "      <td>CONSUMP</td>\n",
       "      <td>HOME</td>\n",
       "      <td>/C13_MarketSummary.jsp?detail=INDUSTRY&amp;sector=...</td>\n",
       "    </tr>\n",
       "    <tr>\n",
       "      <th>6</th>\n",
       "      <td>CONSUMP</td>\n",
       "      <td>PERSON</td>\n",
       "      <td>/C13_MarketSummary.jsp?detail=INDUSTRY&amp;sector=...</td>\n",
       "    </tr>\n",
       "    <tr>\n",
       "      <th>8</th>\n",
       "      <td>FINCIAL</td>\n",
       "      <td>BANK</td>\n",
       "      <td>/C13_MarketSummary.jsp?detail=INDUSTRY&amp;sector=...</td>\n",
       "    </tr>\n",
       "    <tr>\n",
       "      <th>9</th>\n",
       "      <td>FINCIAL</td>\n",
       "      <td>FIN</td>\n",
       "      <td>/C13_MarketSummary.jsp?detail=INDUSTRY&amp;sector=...</td>\n",
       "    </tr>\n",
       "    <tr>\n",
       "      <th>10</th>\n",
       "      <td>FINCIAL</td>\n",
       "      <td>INSUR</td>\n",
       "      <td>/C13_MarketSummary.jsp?detail=INDUSTRY&amp;sector=...</td>\n",
       "    </tr>\n",
       "    <tr>\n",
       "      <th>12</th>\n",
       "      <td>INDUS</td>\n",
       "      <td>AUTO</td>\n",
       "      <td>/C13_MarketSummary.jsp?detail=INDUSTRY&amp;sector=...</td>\n",
       "    </tr>\n",
       "    <tr>\n",
       "      <th>13</th>\n",
       "      <td>INDUS</td>\n",
       "      <td>IMM</td>\n",
       "      <td>/C13_MarketSummary.jsp?detail=INDUSTRY&amp;sector=...</td>\n",
       "    </tr>\n",
       "  </tbody>\n",
       "</table>\n",
       "</div>"
      ],
      "text/plain": [
       "   Industry   Sector                                                URL\n",
       "1      AGRO     AGRI  /C13_MarketSummary.jsp?detail=INDUSTRY&sector=...\n",
       "2      AGRO     FOOD  /C13_MarketSummary.jsp?detail=INDUSTRY&sector=...\n",
       "4   CONSUMP  FASHION  /C13_MarketSummary.jsp?detail=INDUSTRY&sector=...\n",
       "5   CONSUMP     HOME  /C13_MarketSummary.jsp?detail=INDUSTRY&sector=...\n",
       "6   CONSUMP   PERSON  /C13_MarketSummary.jsp?detail=INDUSTRY&sector=...\n",
       "8   FINCIAL     BANK  /C13_MarketSummary.jsp?detail=INDUSTRY&sector=...\n",
       "9   FINCIAL      FIN  /C13_MarketSummary.jsp?detail=INDUSTRY&sector=...\n",
       "10  FINCIAL    INSUR  /C13_MarketSummary.jsp?detail=INDUSTRY&sector=...\n",
       "12    INDUS     AUTO  /C13_MarketSummary.jsp?detail=INDUSTRY&sector=...\n",
       "13    INDUS      IMM  /C13_MarketSummary.jsp?detail=INDUSTRY&sector=..."
      ]
     },
     "execution_count": 75,
     "metadata": {},
     "output_type": "execute_result"
    }
   ],
   "source": [
    "sector_df[0:10]"
   ]
  },
  {
   "cell_type": "code",
   "execution_count": 76,
   "metadata": {},
   "outputs": [],
   "source": [
    "industry_df.to_csv('../../data/explore/industry_list.csv', index=False)"
   ]
  },
  {
   "cell_type": "code",
   "execution_count": 77,
   "metadata": {},
   "outputs": [],
   "source": [
    "sector_df.to_csv('../../data/explore/sector_list.csv', index=False)"
   ]
  },
  {
   "cell_type": "code",
   "execution_count": 78,
   "metadata": {},
   "outputs": [
    {
     "data": {
      "text/plain": [
       "8"
      ]
     },
     "execution_count": 78,
     "metadata": {},
     "output_type": "execute_result"
    }
   ],
   "source": [
    "len(industry_df)"
   ]
  },
  {
   "cell_type": "code",
   "execution_count": 79,
   "metadata": {},
   "outputs": [
    {
     "data": {
      "text/plain": [
       "28"
      ]
     },
     "execution_count": 79,
     "metadata": {},
     "output_type": "execute_result"
    }
   ],
   "source": [
    "len(sector_df)"
   ]
  },
  {
   "cell_type": "code",
   "execution_count": 80,
   "metadata": {},
   "outputs": [
    {
     "data": {
      "text/plain": [
       "'2018-04-26'"
      ]
     },
     "execution_count": 80,
     "metadata": {},
     "output_type": "execute_result"
    }
   ],
   "source": [
    "str(datetime.now().strftime('%Y-%m-%d'))"
   ]
  },
  {
   "cell_type": "markdown",
   "metadata": {},
   "source": [
    "## Get Stock List"
   ]
  },
  {
   "cell_type": "code",
   "execution_count": 222,
   "metadata": {},
   "outputs": [
    {
     "data": {
      "text/html": [
       "<div>\n",
       "<style>\n",
       "    .dataframe thead tr:only-child th {\n",
       "        text-align: right;\n",
       "    }\n",
       "\n",
       "    .dataframe thead th {\n",
       "        text-align: left;\n",
       "    }\n",
       "\n",
       "    .dataframe tbody tr th {\n",
       "        vertical-align: top;\n",
       "    }\n",
       "</style>\n",
       "<table border=\"1\" class=\"dataframe\">\n",
       "  <thead>\n",
       "    <tr style=\"text-align: right;\">\n",
       "      <th></th>\n",
       "      <th>Industry</th>\n",
       "      <th>Sector</th>\n",
       "      <th>URL</th>\n",
       "    </tr>\n",
       "  </thead>\n",
       "  <tbody>\n",
       "    <tr>\n",
       "      <th>0</th>\n",
       "      <td>AGRO</td>\n",
       "      <td>AGRI</td>\n",
       "      <td>/C13_MarketSummary.jsp?detail=INDUSTRY&amp;sector=...</td>\n",
       "    </tr>\n",
       "    <tr>\n",
       "      <th>1</th>\n",
       "      <td>AGRO</td>\n",
       "      <td>FOOD</td>\n",
       "      <td>/C13_MarketSummary.jsp?detail=INDUSTRY&amp;sector=...</td>\n",
       "    </tr>\n",
       "    <tr>\n",
       "      <th>2</th>\n",
       "      <td>CONSUMP</td>\n",
       "      <td>FASHION</td>\n",
       "      <td>/C13_MarketSummary.jsp?detail=INDUSTRY&amp;sector=...</td>\n",
       "    </tr>\n",
       "    <tr>\n",
       "      <th>3</th>\n",
       "      <td>CONSUMP</td>\n",
       "      <td>HOME</td>\n",
       "      <td>/C13_MarketSummary.jsp?detail=INDUSTRY&amp;sector=...</td>\n",
       "    </tr>\n",
       "    <tr>\n",
       "      <th>4</th>\n",
       "      <td>CONSUMP</td>\n",
       "      <td>PERSON</td>\n",
       "      <td>/C13_MarketSummary.jsp?detail=INDUSTRY&amp;sector=...</td>\n",
       "    </tr>\n",
       "  </tbody>\n",
       "</table>\n",
       "</div>"
      ],
      "text/plain": [
       "  Industry   Sector                                                URL\n",
       "0     AGRO     AGRI  /C13_MarketSummary.jsp?detail=INDUSTRY&sector=...\n",
       "1     AGRO     FOOD  /C13_MarketSummary.jsp?detail=INDUSTRY&sector=...\n",
       "2  CONSUMP  FASHION  /C13_MarketSummary.jsp?detail=INDUSTRY&sector=...\n",
       "3  CONSUMP     HOME  /C13_MarketSummary.jsp?detail=INDUSTRY&sector=...\n",
       "4  CONSUMP   PERSON  /C13_MarketSummary.jsp?detail=INDUSTRY&sector=..."
      ]
     },
     "execution_count": 222,
     "metadata": {},
     "output_type": "execute_result"
    }
   ],
   "source": [
    "sector_table = pd.read_csv('../../data/explore/sector_list.csv')\n",
    "sector_table.head()"
   ]
  },
  {
   "cell_type": "markdown",
   "metadata": {},
   "source": [
    "สร้าง function Get หุ้นจาก แต่ละ Sector"
   ]
  },
  {
   "cell_type": "code",
   "execution_count": 223,
   "metadata": {},
   "outputs": [],
   "source": [
    "def getStockList(url,sector):\n",
    "    page = requests.get(url) # ดูดหน้าเว็บมา\n",
    "    \n",
    "    if page.status_code == 200 :\n",
    "        # All HTML of Page\n",
    "        soup = BeautifulSoup(page.content, \"html5lib\")\n",
    "        # ซอยข้อมูลทั้ง page เป็นทีละส่วนๆ แล้วลงลึกไปเอาข้อมูลทีละจุดๆ\n",
    "        html = list(soup.children)[1]\n",
    "        head = list(html.children)[0]\n",
    "        body = list(html.children)[2]\n",
    "        # ***\n",
    "        target_table = list(body.find_all(class_=\"table-hover\"))[1]\n",
    "        target_table_body = list(target_table.children)[3]\n",
    "\n",
    "        # Stocks\n",
    "        stock_rows = target_table_body.find_all('tr')\n",
    "        stock_name_list = np.array([ stock_row.find(class_=\"link-stt\").text for stock_row in stock_rows ])\n",
    "        stock_url_list = np.array([ stock_row.find(class_=\"link-stt\").get('href') for stock_row in stock_rows ])\n",
    "\n",
    "        # Convert to DataFrame         \n",
    "        stock_df = pd.DataFrame({'Stock': stock_name_list, 'ราคาล่าสุด(Home)': stock_url_list})\n",
    "        stock_df['Sector'] = sector\n",
    "        return stock_df\n",
    "    else:\n",
    "        print(\"Can't get content from this URL!!!\")"
   ]
  },
  {
   "cell_type": "code",
   "execution_count": 224,
   "metadata": {},
   "outputs": [
    {
     "data": {
      "text/html": [
       "<div>\n",
       "<style>\n",
       "    .dataframe thead tr:only-child th {\n",
       "        text-align: right;\n",
       "    }\n",
       "\n",
       "    .dataframe thead th {\n",
       "        text-align: left;\n",
       "    }\n",
       "\n",
       "    .dataframe tbody tr th {\n",
       "        vertical-align: top;\n",
       "    }\n",
       "</style>\n",
       "<table border=\"1\" class=\"dataframe\">\n",
       "  <thead>\n",
       "    <tr style=\"text-align: right;\">\n",
       "      <th></th>\n",
       "      <th>Stock</th>\n",
       "      <th>ราคาล่าสุด(Home)</th>\n",
       "      <th>Sector</th>\n",
       "    </tr>\n",
       "  </thead>\n",
       "  <tbody>\n",
       "    <tr>\n",
       "      <th>0</th>\n",
       "      <td>APURE</td>\n",
       "      <td>/C13_FastQuote_Main.jsp?txtSymbol=APURE</td>\n",
       "      <td>FOOD</td>\n",
       "    </tr>\n",
       "    <tr>\n",
       "      <th>1</th>\n",
       "      <td>ASIAN</td>\n",
       "      <td>/C13_FastQuote_Main.jsp?txtSymbol=ASIAN</td>\n",
       "      <td>FOOD</td>\n",
       "    </tr>\n",
       "    <tr>\n",
       "      <th>2</th>\n",
       "      <td>BR</td>\n",
       "      <td>/C13_FastQuote_Main.jsp?txtSymbol=BR</td>\n",
       "      <td>FOOD</td>\n",
       "    </tr>\n",
       "    <tr>\n",
       "      <th>3</th>\n",
       "      <td>BRR</td>\n",
       "      <td>/C13_FastQuote_Main.jsp?txtSymbol=BRR</td>\n",
       "      <td>FOOD</td>\n",
       "    </tr>\n",
       "    <tr>\n",
       "      <th>4</th>\n",
       "      <td>CBG</td>\n",
       "      <td>/C13_FastQuote_Main.jsp?txtSymbol=CBG</td>\n",
       "      <td>FOOD</td>\n",
       "    </tr>\n",
       "  </tbody>\n",
       "</table>\n",
       "</div>"
      ],
      "text/plain": [
       "   Stock                         ราคาล่าสุด(Home) Sector\n",
       "0  APURE  /C13_FastQuote_Main.jsp?txtSymbol=APURE   FOOD\n",
       "1  ASIAN  /C13_FastQuote_Main.jsp?txtSymbol=ASIAN   FOOD\n",
       "2     BR     /C13_FastQuote_Main.jsp?txtSymbol=BR   FOOD\n",
       "3    BRR    /C13_FastQuote_Main.jsp?txtSymbol=BRR   FOOD\n",
       "4    CBG    /C13_FastQuote_Main.jsp?txtSymbol=CBG   FOOD"
      ]
     },
     "execution_count": 224,
     "metadata": {},
     "output_type": "execute_result"
    }
   ],
   "source": [
    "getStockList('https://www.settrade.com/C13_MarketSummary.jsp?detail=INDUSTRY&sector=FOOD&market=SET','FOOD').head()"
   ]
  },
  {
   "cell_type": "markdown",
   "metadata": {},
   "source": [
    "สร้าง Loop มาไล่วนดึง List หุ้นจากแต่ละ sector"
   ]
  },
  {
   "cell_type": "code",
   "execution_count": 225,
   "metadata": {},
   "outputs": [],
   "source": [
    "prefix_url = 'https://www.settrade.com'\n",
    "stock_frames = []\n",
    "\n",
    "for index,sector in sector_table.iterrows():\n",
    "    suffix_url = sector['URL']\n",
    "    settrade_url = prefix_url + suffix_url\n",
    "    stock_df = getStockList(settrade_url,sector['Sector'])\n",
    "    stock_frames.append(stock_df)\n",
    "\n",
    "stock_lists = pd.concat(stock_frames)"
   ]
  },
  {
   "cell_type": "code",
   "execution_count": 226,
   "metadata": {},
   "outputs": [
    {
     "data": {
      "text/html": [
       "<div>\n",
       "<style>\n",
       "    .dataframe thead tr:only-child th {\n",
       "        text-align: right;\n",
       "    }\n",
       "\n",
       "    .dataframe thead th {\n",
       "        text-align: left;\n",
       "    }\n",
       "\n",
       "    .dataframe tbody tr th {\n",
       "        vertical-align: top;\n",
       "    }\n",
       "</style>\n",
       "<table border=\"1\" class=\"dataframe\">\n",
       "  <thead>\n",
       "    <tr style=\"text-align: right;\">\n",
       "      <th></th>\n",
       "      <th>Stock</th>\n",
       "      <th>ราคาล่าสุด(Home)</th>\n",
       "      <th>Sector</th>\n",
       "    </tr>\n",
       "  </thead>\n",
       "  <tbody>\n",
       "    <tr>\n",
       "      <th>0</th>\n",
       "      <td>CHOTI</td>\n",
       "      <td>/C13_FastQuote_Main.jsp?txtSymbol=CHOTI</td>\n",
       "      <td>AGRI</td>\n",
       "    </tr>\n",
       "    <tr>\n",
       "      <th>1</th>\n",
       "      <td>EE</td>\n",
       "      <td>/C13_FastQuote_Main.jsp?txtSymbol=EE</td>\n",
       "      <td>AGRI</td>\n",
       "    </tr>\n",
       "    <tr>\n",
       "      <th>2</th>\n",
       "      <td>GFPT</td>\n",
       "      <td>/C13_FastQuote_Main.jsp?txtSymbol=GFPT</td>\n",
       "      <td>AGRI</td>\n",
       "    </tr>\n",
       "    <tr>\n",
       "      <th>3</th>\n",
       "      <td>LEE</td>\n",
       "      <td>/C13_FastQuote_Main.jsp?txtSymbol=LEE</td>\n",
       "      <td>AGRI</td>\n",
       "    </tr>\n",
       "    <tr>\n",
       "      <th>4</th>\n",
       "      <td>STA</td>\n",
       "      <td>/C13_FastQuote_Main.jsp?txtSymbol=STA</td>\n",
       "      <td>AGRI</td>\n",
       "    </tr>\n",
       "  </tbody>\n",
       "</table>\n",
       "</div>"
      ],
      "text/plain": [
       "   Stock                         ราคาล่าสุด(Home) Sector\n",
       "0  CHOTI  /C13_FastQuote_Main.jsp?txtSymbol=CHOTI   AGRI\n",
       "1     EE     /C13_FastQuote_Main.jsp?txtSymbol=EE   AGRI\n",
       "2   GFPT   /C13_FastQuote_Main.jsp?txtSymbol=GFPT   AGRI\n",
       "3    LEE    /C13_FastQuote_Main.jsp?txtSymbol=LEE   AGRI\n",
       "4    STA    /C13_FastQuote_Main.jsp?txtSymbol=STA   AGRI"
      ]
     },
     "execution_count": 226,
     "metadata": {},
     "output_type": "execute_result"
    }
   ],
   "source": [
    "stock_lists.head()"
   ]
  },
  {
   "cell_type": "code",
   "execution_count": 227,
   "metadata": {},
   "outputs": [],
   "source": [
    "stock_lists.to_csv('../../data/explore/stock_list.csv', index=False)"
   ]
  },
  {
   "cell_type": "markdown",
   "metadata": {},
   "source": [
    "*Note : ตรงส่วนนี้ข้อมูลไม่ตรง จาก settrade ดึงหุ้นมาได้ 597 ตัว แต่ของกวีมีหุ้น 629 ตัว และข้อมูลเก่าที่เคยหาไว้มี 646 ตัว* ?? "
   ]
  },
  {
   "cell_type": "code",
   "execution_count": 228,
   "metadata": {},
   "outputs": [
    {
     "data": {
      "text/plain": [
       "597"
      ]
     },
     "execution_count": 228,
     "metadata": {},
     "output_type": "execute_result"
    }
   ],
   "source": [
    "len(stock_lists)"
   ]
  },
  {
   "cell_type": "markdown",
   "metadata": {},
   "source": [
    "# Get URL of Stock"
   ]
  },
  {
   "cell_type": "code",
   "execution_count": 229,
   "metadata": {},
   "outputs": [
    {
     "name": "stdout",
     "output_type": "stream",
     "text": [
      "597\n"
     ]
    },
    {
     "data": {
      "text/html": [
       "<div>\n",
       "<style>\n",
       "    .dataframe thead tr:only-child th {\n",
       "        text-align: right;\n",
       "    }\n",
       "\n",
       "    .dataframe thead th {\n",
       "        text-align: left;\n",
       "    }\n",
       "\n",
       "    .dataframe tbody tr th {\n",
       "        vertical-align: top;\n",
       "    }\n",
       "</style>\n",
       "<table border=\"1\" class=\"dataframe\">\n",
       "  <thead>\n",
       "    <tr style=\"text-align: right;\">\n",
       "      <th></th>\n",
       "      <th>Stock</th>\n",
       "      <th>ราคาล่าสุด(Home)</th>\n",
       "      <th>Sector</th>\n",
       "    </tr>\n",
       "  </thead>\n",
       "  <tbody>\n",
       "    <tr>\n",
       "      <th>0</th>\n",
       "      <td>CHOTI</td>\n",
       "      <td>/C13_FastQuote_Main.jsp?txtSymbol=CHOTI</td>\n",
       "      <td>AGRI</td>\n",
       "    </tr>\n",
       "    <tr>\n",
       "      <th>1</th>\n",
       "      <td>EE</td>\n",
       "      <td>/C13_FastQuote_Main.jsp?txtSymbol=EE</td>\n",
       "      <td>AGRI</td>\n",
       "    </tr>\n",
       "    <tr>\n",
       "      <th>2</th>\n",
       "      <td>GFPT</td>\n",
       "      <td>/C13_FastQuote_Main.jsp?txtSymbol=GFPT</td>\n",
       "      <td>AGRI</td>\n",
       "    </tr>\n",
       "    <tr>\n",
       "      <th>3</th>\n",
       "      <td>LEE</td>\n",
       "      <td>/C13_FastQuote_Main.jsp?txtSymbol=LEE</td>\n",
       "      <td>AGRI</td>\n",
       "    </tr>\n",
       "    <tr>\n",
       "      <th>4</th>\n",
       "      <td>STA</td>\n",
       "      <td>/C13_FastQuote_Main.jsp?txtSymbol=STA</td>\n",
       "      <td>AGRI</td>\n",
       "    </tr>\n",
       "  </tbody>\n",
       "</table>\n",
       "</div>"
      ],
      "text/plain": [
       "   Stock                         ราคาล่าสุด(Home) Sector\n",
       "0  CHOTI  /C13_FastQuote_Main.jsp?txtSymbol=CHOTI   AGRI\n",
       "1     EE     /C13_FastQuote_Main.jsp?txtSymbol=EE   AGRI\n",
       "2   GFPT   /C13_FastQuote_Main.jsp?txtSymbol=GFPT   AGRI\n",
       "3    LEE    /C13_FastQuote_Main.jsp?txtSymbol=LEE   AGRI\n",
       "4    STA    /C13_FastQuote_Main.jsp?txtSymbol=STA   AGRI"
      ]
     },
     "execution_count": 229,
     "metadata": {},
     "output_type": "execute_result"
    }
   ],
   "source": [
    "stock_table = pd.read_csv('../../data/explore/stock_list.csv')\n",
    "print(len(stock_table))\n",
    "stock_table.head()"
   ]
  },
  {
   "cell_type": "markdown",
   "metadata": {},
   "source": [
    "ข้อมูลจากตารางข้างบน URL จะชี้ไปหน้า **ราคาล่าสุด** แต่เราอยากไปหน้า **งบการเงิน** ดังนั้นต้องสร้างฟังก์ชั่น GET Financial Report URL ของหุ้น ก่อน"
   ]
  },
  {
   "cell_type": "code",
   "execution_count": 233,
   "metadata": {},
   "outputs": [],
   "source": [
    "def getStockLink(url,stock):\n",
    "    page = requests.get(url) # ดูดหน้าเว็บมา\n",
    "    \n",
    "    if page.status_code == 200 :\n",
    "        # All HTML of Page\n",
    "        soup = BeautifulSoup(page.content, \"html5lib\")\n",
    "        # ซอยข้อมูลทั้ง page เป็นทีละส่วนๆ แล้วลงลึกไปเอาข้อมูลทีละจุดๆ\n",
    "        html = list(soup.children)[1]\n",
    "        head = list(html.children)[0]\n",
    "        body = list(html.children)[2]\n",
    "        \n",
    "        # ***\n",
    "        nav_menu = list(body.find(class_=\"nav-tabs-stt\"))\n",
    "        \n",
    "        previous_price_name = nav_menu[3].find('a').text #ราคาย้อนหลัง\n",
    "        previous_price_url = nav_menu[3].find('a').get('href')\n",
    "        company_stock_name = nav_menu[5].find('a').text #บริษัท/หลักทรัพย์\n",
    "        company_stock_url = nav_menu[5].find('a').get('href') \n",
    "        board_of_director_name = nav_menu[7].find('a').text #กรรมการบริษัท\n",
    "        board_of_director_url = nav_menu[7].find('a').get('href') \n",
    "        major_share_holder_name = nav_menu[9].find('a').text #ผู้ถือหุ้นรายใหญ่\n",
    "        major_share_holder_url = nav_menu[9].find('a').get('href')  \n",
    "        financial_name = nav_menu[11].find('a').text #งบการเงิน\n",
    "        financial_url = nav_menu[11].find('a').get('href')\n",
    "\n",
    "        # Convert to DataFrame         \n",
    "        stock_df = pd.DataFrame({previous_price_name: [previous_price_url], \n",
    "                                 company_stock_name: [company_stock_url],\n",
    "                                 board_of_director_name: [board_of_director_url],\n",
    "                                 major_share_holder_name: [major_share_holder_url],\n",
    "                                 financial_name: [financial_url]\n",
    "                                })\n",
    "        stock_df['Stock'] = stock\n",
    "        return stock_df\n",
    "    else:\n",
    "        print(\"Can't get content from this URL!!!\")"
   ]
  },
  {
   "cell_type": "code",
   "execution_count": 234,
   "metadata": {},
   "outputs": [
    {
     "data": {
      "text/html": [
       "<div>\n",
       "<style>\n",
       "    .dataframe thead tr:only-child th {\n",
       "        text-align: right;\n",
       "    }\n",
       "\n",
       "    .dataframe thead th {\n",
       "        text-align: left;\n",
       "    }\n",
       "\n",
       "    .dataframe tbody tr th {\n",
       "        vertical-align: top;\n",
       "    }\n",
       "</style>\n",
       "<table border=\"1\" class=\"dataframe\">\n",
       "  <thead>\n",
       "    <tr style=\"text-align: right;\">\n",
       "      <th></th>\n",
       "      <th>กรรมการบริษัท</th>\n",
       "      <th>งบการเงิน</th>\n",
       "      <th>บริษัท/หลักทรัพย์</th>\n",
       "      <th>ผู้ถือหุ้นรายใหญ่</th>\n",
       "      <th>ราคาย้อนหลัง</th>\n",
       "      <th>Stock</th>\n",
       "    </tr>\n",
       "  </thead>\n",
       "  <tbody>\n",
       "    <tr>\n",
       "      <th>0</th>\n",
       "      <td>/C13_FastQuote_Main.jsp?txtSymbol=CHOTI&amp;ssoPag...</td>\n",
       "      <td>/C13_FastQuote_Main.jsp?txtSymbol=CHOTI&amp;ssoPag...</td>\n",
       "      <td>/C13_FastQuote_Main.jsp?txtSymbol=CHOTI&amp;ssoPag...</td>\n",
       "      <td>/C13_FastQuote_Main.jsp?txtSymbol=CHOTI&amp;ssoPag...</td>\n",
       "      <td>/C13_FastQuote_Main.jsp?txtSymbol=CHOTI&amp;ssoPag...</td>\n",
       "      <td>CHOTI</td>\n",
       "    </tr>\n",
       "  </tbody>\n",
       "</table>\n",
       "</div>"
      ],
      "text/plain": [
       "                                       กรรมการบริษัท  \\\n",
       "0  /C13_FastQuote_Main.jsp?txtSymbol=CHOTI&ssoPag...   \n",
       "\n",
       "                                           งบการเงิน  \\\n",
       "0  /C13_FastQuote_Main.jsp?txtSymbol=CHOTI&ssoPag...   \n",
       "\n",
       "                                   บริษัท/หลักทรัพย์  \\\n",
       "0  /C13_FastQuote_Main.jsp?txtSymbol=CHOTI&ssoPag...   \n",
       "\n",
       "                                   ผู้ถือหุ้นรายใหญ่  \\\n",
       "0  /C13_FastQuote_Main.jsp?txtSymbol=CHOTI&ssoPag...   \n",
       "\n",
       "                                        ราคาย้อนหลัง  Stock  \n",
       "0  /C13_FastQuote_Main.jsp?txtSymbol=CHOTI&ssoPag...  CHOTI  "
      ]
     },
     "execution_count": 234,
     "metadata": {},
     "output_type": "execute_result"
    }
   ],
   "source": [
    "other_url = getStockLink('https://www.settrade.com//C13_FastQuote_Main.jsp?txtSymbol=CHOTI','CHOTI')\n",
    "other_url"
   ]
  },
  {
   "cell_type": "markdown",
   "metadata": {},
   "source": [
    "สร้าง Loop ดึงข้อมูลหุ้นทุกตัว"
   ]
  },
  {
   "cell_type": "code",
   "execution_count": 235,
   "metadata": {},
   "outputs": [],
   "source": [
    "prefix_url = 'https://www.settrade.com'\n",
    "stock_url_frames = []\n",
    "\n",
    "for stock_index,stock in stock_table.iterrows():\n",
    "    suffix_url = stock['ราคาล่าสุด(Home)']\n",
    "    settrade_url = prefix_url + suffix_url\n",
    "    stock_url_df = getStockLink(settrade_url,stock['Stock'])\n",
    "    stock_url_frames.append(stock_url_df)\n",
    "\n",
    "stock_url_lists = pd.concat(stock_url_frames)"
   ]
  },
  {
   "cell_type": "code",
   "execution_count": 237,
   "metadata": {},
   "outputs": [
    {
     "data": {
      "text/html": [
       "<div>\n",
       "<style>\n",
       "    .dataframe thead tr:only-child th {\n",
       "        text-align: right;\n",
       "    }\n",
       "\n",
       "    .dataframe thead th {\n",
       "        text-align: left;\n",
       "    }\n",
       "\n",
       "    .dataframe tbody tr th {\n",
       "        vertical-align: top;\n",
       "    }\n",
       "</style>\n",
       "<table border=\"1\" class=\"dataframe\">\n",
       "  <thead>\n",
       "    <tr style=\"text-align: right;\">\n",
       "      <th></th>\n",
       "      <th>กรรมการบริษัท</th>\n",
       "      <th>งบการเงิน</th>\n",
       "      <th>บริษัท/หลักทรัพย์</th>\n",
       "      <th>ผู้ถือหุ้นรายใหญ่</th>\n",
       "      <th>ราคาย้อนหลัง</th>\n",
       "      <th>Stock</th>\n",
       "    </tr>\n",
       "  </thead>\n",
       "  <tbody>\n",
       "    <tr>\n",
       "      <th>0</th>\n",
       "      <td>/C13_FastQuote_Main.jsp?txtSymbol=CHOTI&amp;ssoPag...</td>\n",
       "      <td>/C13_FastQuote_Main.jsp?txtSymbol=CHOTI&amp;ssoPag...</td>\n",
       "      <td>/C13_FastQuote_Main.jsp?txtSymbol=CHOTI&amp;ssoPag...</td>\n",
       "      <td>/C13_FastQuote_Main.jsp?txtSymbol=CHOTI&amp;ssoPag...</td>\n",
       "      <td>/C13_FastQuote_Main.jsp?txtSymbol=CHOTI&amp;ssoPag...</td>\n",
       "      <td>CHOTI</td>\n",
       "    </tr>\n",
       "    <tr>\n",
       "      <th>0</th>\n",
       "      <td>/C13_FastQuote_Main.jsp?txtSymbol=EE&amp;ssoPageId...</td>\n",
       "      <td>/C13_FastQuote_Main.jsp?txtSymbol=EE&amp;ssoPageId...</td>\n",
       "      <td>/C13_FastQuote_Main.jsp?txtSymbol=EE&amp;ssoPageId...</td>\n",
       "      <td>/C13_FastQuote_Main.jsp?txtSymbol=EE&amp;ssoPageId...</td>\n",
       "      <td>/C13_FastQuote_Main.jsp?txtSymbol=EE&amp;ssoPageId...</td>\n",
       "      <td>EE</td>\n",
       "    </tr>\n",
       "    <tr>\n",
       "      <th>0</th>\n",
       "      <td>/C13_FastQuote_Main.jsp?txtSymbol=GFPT&amp;ssoPage...</td>\n",
       "      <td>/C13_FastQuote_Main.jsp?txtSymbol=GFPT&amp;ssoPage...</td>\n",
       "      <td>/C13_FastQuote_Main.jsp?txtSymbol=GFPT&amp;ssoPage...</td>\n",
       "      <td>/C13_FastQuote_Main.jsp?txtSymbol=GFPT&amp;ssoPage...</td>\n",
       "      <td>/C13_FastQuote_Main.jsp?txtSymbol=GFPT&amp;ssoPage...</td>\n",
       "      <td>GFPT</td>\n",
       "    </tr>\n",
       "    <tr>\n",
       "      <th>0</th>\n",
       "      <td>/C13_FastQuote_Main.jsp?txtSymbol=LEE&amp;ssoPageI...</td>\n",
       "      <td>/C13_FastQuote_Main.jsp?txtSymbol=LEE&amp;ssoPageI...</td>\n",
       "      <td>/C13_FastQuote_Main.jsp?txtSymbol=LEE&amp;ssoPageI...</td>\n",
       "      <td>/C13_FastQuote_Main.jsp?txtSymbol=LEE&amp;ssoPageI...</td>\n",
       "      <td>/C13_FastQuote_Main.jsp?txtSymbol=LEE&amp;ssoPageI...</td>\n",
       "      <td>LEE</td>\n",
       "    </tr>\n",
       "    <tr>\n",
       "      <th>0</th>\n",
       "      <td>/C13_FastQuote_Main.jsp?txtSymbol=STA&amp;ssoPageI...</td>\n",
       "      <td>/C13_FastQuote_Main.jsp?txtSymbol=STA&amp;ssoPageI...</td>\n",
       "      <td>/C13_FastQuote_Main.jsp?txtSymbol=STA&amp;ssoPageI...</td>\n",
       "      <td>/C13_FastQuote_Main.jsp?txtSymbol=STA&amp;ssoPageI...</td>\n",
       "      <td>/C13_FastQuote_Main.jsp?txtSymbol=STA&amp;ssoPageI...</td>\n",
       "      <td>STA</td>\n",
       "    </tr>\n",
       "  </tbody>\n",
       "</table>\n",
       "</div>"
      ],
      "text/plain": [
       "                                       กรรมการบริษัท  \\\n",
       "0  /C13_FastQuote_Main.jsp?txtSymbol=CHOTI&ssoPag...   \n",
       "0  /C13_FastQuote_Main.jsp?txtSymbol=EE&ssoPageId...   \n",
       "0  /C13_FastQuote_Main.jsp?txtSymbol=GFPT&ssoPage...   \n",
       "0  /C13_FastQuote_Main.jsp?txtSymbol=LEE&ssoPageI...   \n",
       "0  /C13_FastQuote_Main.jsp?txtSymbol=STA&ssoPageI...   \n",
       "\n",
       "                                           งบการเงิน  \\\n",
       "0  /C13_FastQuote_Main.jsp?txtSymbol=CHOTI&ssoPag...   \n",
       "0  /C13_FastQuote_Main.jsp?txtSymbol=EE&ssoPageId...   \n",
       "0  /C13_FastQuote_Main.jsp?txtSymbol=GFPT&ssoPage...   \n",
       "0  /C13_FastQuote_Main.jsp?txtSymbol=LEE&ssoPageI...   \n",
       "0  /C13_FastQuote_Main.jsp?txtSymbol=STA&ssoPageI...   \n",
       "\n",
       "                                   บริษัท/หลักทรัพย์  \\\n",
       "0  /C13_FastQuote_Main.jsp?txtSymbol=CHOTI&ssoPag...   \n",
       "0  /C13_FastQuote_Main.jsp?txtSymbol=EE&ssoPageId...   \n",
       "0  /C13_FastQuote_Main.jsp?txtSymbol=GFPT&ssoPage...   \n",
       "0  /C13_FastQuote_Main.jsp?txtSymbol=LEE&ssoPageI...   \n",
       "0  /C13_FastQuote_Main.jsp?txtSymbol=STA&ssoPageI...   \n",
       "\n",
       "                                   ผู้ถือหุ้นรายใหญ่  \\\n",
       "0  /C13_FastQuote_Main.jsp?txtSymbol=CHOTI&ssoPag...   \n",
       "0  /C13_FastQuote_Main.jsp?txtSymbol=EE&ssoPageId...   \n",
       "0  /C13_FastQuote_Main.jsp?txtSymbol=GFPT&ssoPage...   \n",
       "0  /C13_FastQuote_Main.jsp?txtSymbol=LEE&ssoPageI...   \n",
       "0  /C13_FastQuote_Main.jsp?txtSymbol=STA&ssoPageI...   \n",
       "\n",
       "                                        ราคาย้อนหลัง  Stock  \n",
       "0  /C13_FastQuote_Main.jsp?txtSymbol=CHOTI&ssoPag...  CHOTI  \n",
       "0  /C13_FastQuote_Main.jsp?txtSymbol=EE&ssoPageId...     EE  \n",
       "0  /C13_FastQuote_Main.jsp?txtSymbol=GFPT&ssoPage...   GFPT  \n",
       "0  /C13_FastQuote_Main.jsp?txtSymbol=LEE&ssoPageI...    LEE  \n",
       "0  /C13_FastQuote_Main.jsp?txtSymbol=STA&ssoPageI...    STA  "
      ]
     },
     "execution_count": 237,
     "metadata": {},
     "output_type": "execute_result"
    }
   ],
   "source": [
    "stock_url_lists.head()"
   ]
  },
  {
   "cell_type": "markdown",
   "metadata": {},
   "source": [
    "merge เข้ากับตารางเดิม"
   ]
  },
  {
   "cell_type": "code",
   "execution_count": 241,
   "metadata": {},
   "outputs": [
    {
     "name": "stdout",
     "output_type": "stream",
     "text": [
      "597\n"
     ]
    },
    {
     "data": {
      "text/html": [
       "<div>\n",
       "<style>\n",
       "    .dataframe thead tr:only-child th {\n",
       "        text-align: right;\n",
       "    }\n",
       "\n",
       "    .dataframe thead th {\n",
       "        text-align: left;\n",
       "    }\n",
       "\n",
       "    .dataframe tbody tr th {\n",
       "        vertical-align: top;\n",
       "    }\n",
       "</style>\n",
       "<table border=\"1\" class=\"dataframe\">\n",
       "  <thead>\n",
       "    <tr style=\"text-align: right;\">\n",
       "      <th></th>\n",
       "      <th>Stock</th>\n",
       "      <th>ราคาล่าสุด(Home)</th>\n",
       "      <th>Sector</th>\n",
       "      <th>กรรมการบริษัท</th>\n",
       "      <th>งบการเงิน</th>\n",
       "      <th>บริษัท/หลักทรัพย์</th>\n",
       "      <th>ผู้ถือหุ้นรายใหญ่</th>\n",
       "      <th>ราคาย้อนหลัง</th>\n",
       "    </tr>\n",
       "  </thead>\n",
       "  <tbody>\n",
       "    <tr>\n",
       "      <th>0</th>\n",
       "      <td>CHOTI</td>\n",
       "      <td>/C13_FastQuote_Main.jsp?txtSymbol=CHOTI</td>\n",
       "      <td>AGRI</td>\n",
       "      <td>/C13_FastQuote_Main.jsp?txtSymbol=CHOTI&amp;ssoPag...</td>\n",
       "      <td>/C13_FastQuote_Main.jsp?txtSymbol=CHOTI&amp;ssoPag...</td>\n",
       "      <td>/C13_FastQuote_Main.jsp?txtSymbol=CHOTI&amp;ssoPag...</td>\n",
       "      <td>/C13_FastQuote_Main.jsp?txtSymbol=CHOTI&amp;ssoPag...</td>\n",
       "      <td>/C13_FastQuote_Main.jsp?txtSymbol=CHOTI&amp;ssoPag...</td>\n",
       "    </tr>\n",
       "    <tr>\n",
       "      <th>1</th>\n",
       "      <td>EE</td>\n",
       "      <td>/C13_FastQuote_Main.jsp?txtSymbol=EE</td>\n",
       "      <td>AGRI</td>\n",
       "      <td>/C13_FastQuote_Main.jsp?txtSymbol=EE&amp;ssoPageId...</td>\n",
       "      <td>/C13_FastQuote_Main.jsp?txtSymbol=EE&amp;ssoPageId...</td>\n",
       "      <td>/C13_FastQuote_Main.jsp?txtSymbol=EE&amp;ssoPageId...</td>\n",
       "      <td>/C13_FastQuote_Main.jsp?txtSymbol=EE&amp;ssoPageId...</td>\n",
       "      <td>/C13_FastQuote_Main.jsp?txtSymbol=EE&amp;ssoPageId...</td>\n",
       "    </tr>\n",
       "    <tr>\n",
       "      <th>2</th>\n",
       "      <td>GFPT</td>\n",
       "      <td>/C13_FastQuote_Main.jsp?txtSymbol=GFPT</td>\n",
       "      <td>AGRI</td>\n",
       "      <td>/C13_FastQuote_Main.jsp?txtSymbol=GFPT&amp;ssoPage...</td>\n",
       "      <td>/C13_FastQuote_Main.jsp?txtSymbol=GFPT&amp;ssoPage...</td>\n",
       "      <td>/C13_FastQuote_Main.jsp?txtSymbol=GFPT&amp;ssoPage...</td>\n",
       "      <td>/C13_FastQuote_Main.jsp?txtSymbol=GFPT&amp;ssoPage...</td>\n",
       "      <td>/C13_FastQuote_Main.jsp?txtSymbol=GFPT&amp;ssoPage...</td>\n",
       "    </tr>\n",
       "    <tr>\n",
       "      <th>3</th>\n",
       "      <td>LEE</td>\n",
       "      <td>/C13_FastQuote_Main.jsp?txtSymbol=LEE</td>\n",
       "      <td>AGRI</td>\n",
       "      <td>/C13_FastQuote_Main.jsp?txtSymbol=LEE&amp;ssoPageI...</td>\n",
       "      <td>/C13_FastQuote_Main.jsp?txtSymbol=LEE&amp;ssoPageI...</td>\n",
       "      <td>/C13_FastQuote_Main.jsp?txtSymbol=LEE&amp;ssoPageI...</td>\n",
       "      <td>/C13_FastQuote_Main.jsp?txtSymbol=LEE&amp;ssoPageI...</td>\n",
       "      <td>/C13_FastQuote_Main.jsp?txtSymbol=LEE&amp;ssoPageI...</td>\n",
       "    </tr>\n",
       "    <tr>\n",
       "      <th>4</th>\n",
       "      <td>STA</td>\n",
       "      <td>/C13_FastQuote_Main.jsp?txtSymbol=STA</td>\n",
       "      <td>AGRI</td>\n",
       "      <td>/C13_FastQuote_Main.jsp?txtSymbol=STA&amp;ssoPageI...</td>\n",
       "      <td>/C13_FastQuote_Main.jsp?txtSymbol=STA&amp;ssoPageI...</td>\n",
       "      <td>/C13_FastQuote_Main.jsp?txtSymbol=STA&amp;ssoPageI...</td>\n",
       "      <td>/C13_FastQuote_Main.jsp?txtSymbol=STA&amp;ssoPageI...</td>\n",
       "      <td>/C13_FastQuote_Main.jsp?txtSymbol=STA&amp;ssoPageI...</td>\n",
       "    </tr>\n",
       "  </tbody>\n",
       "</table>\n",
       "</div>"
      ],
      "text/plain": [
       "   Stock                         ราคาล่าสุด(Home) Sector  \\\n",
       "0  CHOTI  /C13_FastQuote_Main.jsp?txtSymbol=CHOTI   AGRI   \n",
       "1     EE     /C13_FastQuote_Main.jsp?txtSymbol=EE   AGRI   \n",
       "2   GFPT   /C13_FastQuote_Main.jsp?txtSymbol=GFPT   AGRI   \n",
       "3    LEE    /C13_FastQuote_Main.jsp?txtSymbol=LEE   AGRI   \n",
       "4    STA    /C13_FastQuote_Main.jsp?txtSymbol=STA   AGRI   \n",
       "\n",
       "                                       กรรมการบริษัท  \\\n",
       "0  /C13_FastQuote_Main.jsp?txtSymbol=CHOTI&ssoPag...   \n",
       "1  /C13_FastQuote_Main.jsp?txtSymbol=EE&ssoPageId...   \n",
       "2  /C13_FastQuote_Main.jsp?txtSymbol=GFPT&ssoPage...   \n",
       "3  /C13_FastQuote_Main.jsp?txtSymbol=LEE&ssoPageI...   \n",
       "4  /C13_FastQuote_Main.jsp?txtSymbol=STA&ssoPageI...   \n",
       "\n",
       "                                           งบการเงิน  \\\n",
       "0  /C13_FastQuote_Main.jsp?txtSymbol=CHOTI&ssoPag...   \n",
       "1  /C13_FastQuote_Main.jsp?txtSymbol=EE&ssoPageId...   \n",
       "2  /C13_FastQuote_Main.jsp?txtSymbol=GFPT&ssoPage...   \n",
       "3  /C13_FastQuote_Main.jsp?txtSymbol=LEE&ssoPageI...   \n",
       "4  /C13_FastQuote_Main.jsp?txtSymbol=STA&ssoPageI...   \n",
       "\n",
       "                                   บริษัท/หลักทรัพย์  \\\n",
       "0  /C13_FastQuote_Main.jsp?txtSymbol=CHOTI&ssoPag...   \n",
       "1  /C13_FastQuote_Main.jsp?txtSymbol=EE&ssoPageId...   \n",
       "2  /C13_FastQuote_Main.jsp?txtSymbol=GFPT&ssoPage...   \n",
       "3  /C13_FastQuote_Main.jsp?txtSymbol=LEE&ssoPageI...   \n",
       "4  /C13_FastQuote_Main.jsp?txtSymbol=STA&ssoPageI...   \n",
       "\n",
       "                                   ผู้ถือหุ้นรายใหญ่  \\\n",
       "0  /C13_FastQuote_Main.jsp?txtSymbol=CHOTI&ssoPag...   \n",
       "1  /C13_FastQuote_Main.jsp?txtSymbol=EE&ssoPageId...   \n",
       "2  /C13_FastQuote_Main.jsp?txtSymbol=GFPT&ssoPage...   \n",
       "3  /C13_FastQuote_Main.jsp?txtSymbol=LEE&ssoPageI...   \n",
       "4  /C13_FastQuote_Main.jsp?txtSymbol=STA&ssoPageI...   \n",
       "\n",
       "                                        ราคาย้อนหลัง  \n",
       "0  /C13_FastQuote_Main.jsp?txtSymbol=CHOTI&ssoPag...  \n",
       "1  /C13_FastQuote_Main.jsp?txtSymbol=EE&ssoPageId...  \n",
       "2  /C13_FastQuote_Main.jsp?txtSymbol=GFPT&ssoPage...  \n",
       "3  /C13_FastQuote_Main.jsp?txtSymbol=LEE&ssoPageI...  \n",
       "4  /C13_FastQuote_Main.jsp?txtSymbol=STA&ssoPageI...  "
      ]
     },
     "execution_count": 241,
     "metadata": {},
     "output_type": "execute_result"
    }
   ],
   "source": [
    "stock_url_table = pd.merge(stock_table,stock_url_lists, on=['Stock'], how='left')\n",
    "print(len(stock_url_table))\n",
    "stock_url_table.head()"
   ]
  },
  {
   "cell_type": "code",
   "execution_count": 243,
   "metadata": {},
   "outputs": [],
   "source": [
    "stock_url_table.to_csv('../../data/explore/stock_url_list.csv', index=False)"
   ]
  },
  {
   "cell_type": "markdown",
   "metadata": {},
   "source": []
  }
 ],
 "metadata": {
  "kernelspec": {
   "display_name": "Python 3",
   "language": "python",
   "name": "python3"
  },
  "language_info": {
   "codemirror_mode": {
    "name": "ipython",
    "version": 3
   },
   "file_extension": ".py",
   "mimetype": "text/x-python",
   "name": "python",
   "nbconvert_exporter": "python",
   "pygments_lexer": "ipython3",
   "version": "3.6.3"
  }
 },
 "nbformat": 4,
 "nbformat_minor": 2
}
