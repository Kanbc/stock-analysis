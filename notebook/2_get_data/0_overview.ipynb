{
 "cells": [
  {
   "cell_type": "markdown",
   "metadata": {},
   "source": [
    "จาก [แนวทางการหาหุ้นดี](https://docs.google.com/spreadsheets/d/1zcPrkgBKzuZTNmR8287a-5mzu2yuAYNUavkUUu_-dbA/edit#gid=1256847632) ที่เคยวิเคราะห์ไว้ เพื่อทำระบบกึ่ง automate ต้องการข้อมูลดังนี้"
   ]
  },
  {
   "cell_type": "markdown",
   "metadata": {},
   "source": [
    "- ชื่อหุ้น + กลุ่ม อุตสาหกรรม\n",
    "- งบการเงินย้อนหลัง 10 ปี (ข้อมูลเก่าเอาใน excel ข้อมูลใหม่ scrape จากหน้าเว็บ)\n",
    "- ราคาหุ้น Currently\n",
    "- ดึงงบการเงินปีใหม่ๆ จากหน้าเว็บ Settrade"
   ]
  }
 ],
 "metadata": {
  "kernelspec": {
   "display_name": "Python 3",
   "language": "python",
   "name": "python3"
  },
  "language_info": {
   "codemirror_mode": {
    "name": "ipython",
    "version": 3
   },
   "file_extension": ".py",
   "mimetype": "text/x-python",
   "name": "python",
   "nbconvert_exporter": "python",
   "pygments_lexer": "ipython3",
   "version": "3.6.3"
  }
 },
 "nbformat": 4,
 "nbformat_minor": 2
}
